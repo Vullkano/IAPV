{
 "cells": [
  {
   "cell_type": "markdown",
   "metadata": {},
   "source": [
    "# Introduction to AI Virtual Characters\n",
    "\n",
    "This notebook introduces the basic concepts of AI for Virtual Characters using the IAPV framework.\n",
    "\n",
    "## Learning Objectives\n",
    "- Understand basic vector mathematics for AI\n",
    "- Create and manage virtual agents\n",
    "- Implement simple steering behaviors\n",
    "- Visualize agent movement patterns"
   ]
  },
  {
   "cell_type": "code",
   "execution_count": null,
   "metadata": {},
   "outputs": [],
   "source": [
    "# Import required libraries\n",
    "import numpy as np\n",
    "import matplotlib.pyplot as plt\n",
    "import sys\n",
    "import os\n",
    "\n",
    "# Add the src directory to Python path\n",
    "sys.path.append(os.path.join(os.getcwd(), '..', 'src', 'python'))\n",
    "\n",
    "from common.math_utils import Vector2D, Vector3D, Agent, Environment\n",
    "from locomotion.steering_behaviors import FlockingAgent, SeekBehavior, WanderBehavior"
   ]
  },
  {
   "cell_type": "markdown",
   "metadata": {},
   "source": [
    "## 1. Vector Mathematics\n",
    "\n",
    "Virtual characters operate in 2D and 3D space, so understanding vectors is crucial."
   ]
  },
  {
   "cell_type": "code",
   "execution_count": null,
   "metadata": {},
   "outputs": [],
   "source": [
    "# Create and manipulate 2D vectors\n",
    "position = Vector2D(5.0, 3.0)\n",
    "velocity = Vector2D(2.0, -1.0)\n",
    "\n",
    "print(f\"Position: ({position.x}, {position.y})\")\n",
    "print(f\"Velocity: ({velocity.x}, {velocity.y})\")\n",
    "print(f\"Velocity magnitude: {velocity.magnitude():.2f}\")\n",
    "\n",
    "# Vector operations\n",
    "new_position = position + velocity\n",
    "print(f\"New position after movement: ({new_position.x}, {new_position.y})\")\n",
    "\n",
    "# Normalize velocity\n",
    "normalized_velocity = velocity.normalized()\n",
    "print(f\"Normalized velocity: ({normalized_velocity.x:.2f}, {normalized_velocity.y:.2f})\")"
   ]
  },
  {
   "cell_type": "markdown",
   "metadata": {},
   "source": [
    "## 2. Creating Virtual Agents\n",
    "\n",
    "Let's create some basic virtual agents and observe their behavior."
   ]
  },
  {
   "cell_type": "code",
   "execution_count": null,
   "metadata": {},
   "outputs": [],
   "source": [
    "# Create an environment to hold our agents\n",
    "environment = Environment()\n",
    "\n",
    "# Create a simple wandering agent\n",
    "agent = FlockingAgent(\"wanderer\", Vector3D(0, 0, 0))\n",
    "agent.steering_controller.clear_behaviors()\n",
    "agent.steering_controller.add_behavior(WanderBehavior(weight=1.0))\n",
    "\n",
    "environment.add_agent(agent)\n",
    "\n",
    "print(f\"Created agent '{agent.id}' at position {agent.position.to_tuple()}\")"
   ]
  },
  {
   "cell_type": "markdown",
   "metadata": {},
   "source": [
    "## 3. Simulating Agent Movement\n",
    "\n",
    "Let's simulate the agent's movement over time and track its path."
   ]
  },
  {
   "cell_type": "code",
   "execution_count": null,
   "metadata": {},
   "outputs": [],
   "source": [
    "# Simulation parameters\n",
    "dt = 0.1  # Time step\n",
    "steps = 200  # Number of simulation steps\n",
    "\n",
    "# Track agent positions\n",
    "positions_x = []\n",
    "positions_y = []\n",
    "\n",
    "# Run simulation\n",
    "for step in range(steps):\n",
    "    # Update environment\n",
    "    environment.update(dt)\n",
    "    \n",
    "    # Record position\n",
    "    pos = agent.position\n",
    "    positions_x.append(pos.x)\n",
    "    positions_y.append(pos.z)  # Use z for 2D visualization\n",
    "\n",
    "print(f\"Simulation completed. Agent moved through {len(positions_x)} positions.\")"
   ]
  },
  {
   "cell_type": "markdown",
   "metadata": {},
   "source": [
    "## 4. Visualizing Agent Behavior\n",
    "\n",
    "Let's visualize the agent's movement pattern."
   ]
  },
  {
   "cell_type": "code",
   "execution_count": null,
   "metadata": {},
   "outputs": [],
   "source": [
    "# Create a plot of the agent's path\n",
    "plt.figure(figsize=(10, 8))\n",
    "\n",
    "# Plot the path\n",
    "plt.plot(positions_x, positions_y, 'b-', alpha=0.7, linewidth=2, label='Agent Path')\n",
    "\n",
    "# Mark start and end positions\n",
    "plt.plot(positions_x[0], positions_y[0], 'go', markersize=10, label='Start')\n",
    "plt.plot(positions_x[-1], positions_y[-1], 'ro', markersize=10, label='End')\n",
    "\n",
    "# Add some style\n",
    "plt.grid(True, alpha=0.3)\n",
    "plt.xlabel('X Position')\n",
    "plt.ylabel('Y Position')\n",
    "plt.title('Wandering Agent Movement Pattern')\n",
    "plt.legend()\n",
    "plt.axis('equal')\n",
    "\n",
    "plt.tight_layout()\n",
    "plt.show()\n",
    "\n",
    "# Show some statistics\n",
    "total_distance = sum([\n",
    "    np.sqrt((positions_x[i+1] - positions_x[i])**2 + (positions_y[i+1] - positions_y[i])**2)\n",
    "    for i in range(len(positions_x) - 1)\n",
    "])\n",
    "\n",
    "print(f\"Total distance traveled: {total_distance:.2f} units\")\n",
    "print(f\"Average speed: {total_distance / (steps * dt):.2f} units/second\")"
   ]
  },
  {
   "cell_type": "markdown",
   "metadata": {},
   "source": [
    "## 5. Seek Behavior\n",
    "\n",
    "Now let's create an agent that seeks towards a target."
   ]
  },
  {
   "cell_type": "code",
   "execution_count": null,
   "metadata": {},
   "outputs": [],
   "source": [
    "# Create a new environment\n",
    "environment2 = Environment()\n",
    "\n",
    "# Create a seeking agent\n",
    "seeker = FlockingAgent(\"seeker\", Vector3D(-20, 0, -20))\n",
    "target_position = Vector3D(20, 0, 20)\n",
    "\n",
    "seeker.steering_controller.clear_behaviors()\n",
    "seeker.steering_controller.add_behavior(SeekBehavior(target_position, weight=1.0))\n",
    "\n",
    "environment2.add_agent(seeker)\n",
    "\n",
    "# Track positions for both agents\n",
    "seeker_x, seeker_y = [], []\n",
    "\n",
    "# Run simulation\n",
    "for step in range(100):\n",
    "    environment2.update(dt)\n",
    "    \n",
    "    pos = seeker.position\n",
    "    seeker_x.append(pos.x)\n",
    "    seeker_y.append(pos.z)\n",
    "\n",
    "# Visualize\n",
    "plt.figure(figsize=(10, 8))\n",
    "\n",
    "plt.plot(seeker_x, seeker_y, 'r-', linewidth=2, label='Seeker Path')\n",
    "plt.plot(seeker_x[0], seeker_y[0], 'go', markersize=10, label='Start')\n",
    "plt.plot(target_position.x, target_position.z, 'bs', markersize=12, label='Target')\n",
    "plt.plot(seeker_x[-1], seeker_y[-1], 'ro', markersize=10, label='Final Position')\n",
    "\n",
    "plt.grid(True, alpha=0.3)\n",
    "plt.xlabel('X Position')\n",
    "plt.ylabel('Y Position')\n",
    "plt.title('Seek Behavior - Agent Moving Towards Target')\n",
    "plt.legend()\n",
    "plt.axis('equal')\n",
    "\n",
    "plt.tight_layout()\n",
    "plt.show()\n",
    "\n",
    "final_distance = np.sqrt((seeker_x[-1] - target_position.x)**2 + (seeker_y[-1] - target_position.z)**2)\n",
    "print(f\"Final distance to target: {final_distance:.2f} units\")"
   ]
  },
  {
   "cell_type": "markdown",
   "metadata": {},
   "source": [
    "## 6. Exercise: Multiple Agents with Flocking\n",
    "\n",
    "Try creating multiple agents and observe their flocking behavior."
   ]
  },
  {
   "cell_type": "code",
   "execution_count": null,
   "metadata": {},
   "outputs": [],
   "source": [
    "# Exercise: Create 5 flocking agents and observe their behavior\n",
    "environment3 = Environment()\n",
    "\n",
    "# Create multiple agents\n",
    "agents = []\n",
    "for i in range(5):\n",
    "    # Random starting positions\n",
    "    x = np.random.uniform(-10, 10)\n",
    "    y = np.random.uniform(-10, 10)\n",
    "    \n",
    "    agent = FlockingAgent(f\"boid_{i}\", Vector3D(x, 0, y))\n",
    "    agents.append(agent)\n",
    "    environment3.add_agent(agent)\n",
    "\n",
    "# Track all agent positions\n",
    "all_paths = {agent.id: {'x': [], 'y': []} for agent in agents}\n",
    "\n",
    "# Simulation\n",
    "for step in range(300):\n",
    "    # Update neighbor relationships for flocking\n",
    "    for agent in agents:\n",
    "        neighbors = environment3.get_agents_in_radius(agent.position, 15.0)\n",
    "        agent.set_neighbors(neighbors)\n",
    "    \n",
    "    environment3.update(dt)\n",
    "    \n",
    "    # Record positions\n",
    "    for agent in agents:\n",
    "        all_paths[agent.id]['x'].append(agent.position.x)\n",
    "        all_paths[agent.id]['y'].append(agent.position.z)\n",
    "\n",
    "# Visualize flocking behavior\n",
    "plt.figure(figsize=(12, 10))\n",
    "\n",
    "colors = ['red', 'blue', 'green', 'orange', 'purple']\n",
    "for i, agent in enumerate(agents):\n",
    "    path = all_paths[agent.id]\n",
    "    plt.plot(path['x'], path['y'], color=colors[i], alpha=0.7, linewidth=2, label=f'Agent {i+1}')\n",
    "    plt.plot(path['x'][0], path['y'][0], 'o', color=colors[i], markersize=8)\n",
    "    plt.plot(path['x'][-1], path['y'][-1], 's', color=colors[i], markersize=8)\n",
    "\n",
    "plt.grid(True, alpha=0.3)\n",
    "plt.xlabel('X Position')\n",
    "plt.ylabel('Y Position')\n",
    "plt.title('Flocking Behavior - Multiple Agents')\n",
    "plt.legend()\n",
    "plt.axis('equal')\n",
    "\n",
    "plt.tight_layout()\n",
    "plt.show()\n",
    "\n",
    "print(\"Observe how the agents start to move together as a group (flock) over time!\")"
   ]
  },
  {
   "cell_type": "markdown",
   "metadata": {},
   "source": [
    "## Summary\n",
    "\n",
    "In this notebook, you've learned:\n",
    "\n",
    "1. **Vector Mathematics**: The foundation of all AI movement and spatial reasoning\n",
    "2. **Agent Creation**: How to create and manage virtual characters\n",
    "3. **Steering Behaviors**: Basic movement patterns like wandering and seeking\n",
    "4. **Simulation**: How to run and visualize AI behavior over time\n",
    "5. **Flocking**: Emergent group behavior from simple individual rules\n",
    "\n",
    "## Next Steps\n",
    "\n",
    "Try these exercises to deepen your understanding:\n",
    "\n",
    "1. Modify the wander behavior parameters and observe the changes\n",
    "2. Create agents that flee from a threat\n",
    "3. Implement obstacle avoidance\n",
    "4. Experiment with different flocking parameters\n",
    "5. Create a simple predator-prey simulation\n",
    "\n",
    "Continue with the next notebook: **02_Steering_Behaviors.ipynb** to learn more advanced movement patterns!"
   ]
  }
 ],
 "metadata": {
  "kernelspec": {
   "display_name": "Python 3",
   "language": "python",
   "name": "python3"
  },
  "language_info": {
   "codemirror_mode": {
    "name": "ipython",
    "version": 3
   },
   "file_extension": ".py",
   "mimetype": "text/x-python",
   "name": "python",
   "nbconvert_exporter": "python",
   "pygments_lexer": "ipython3",
   "version": "3.8.5"
  }
 },
 "nbformat": 4,
 "nbformat_minor": 4
}